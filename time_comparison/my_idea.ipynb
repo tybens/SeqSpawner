{
 "cells": [
  {
   "cell_type": "code",
   "execution_count": 2,
   "metadata": {},
   "outputs": [
    {
     "data": {
      "text/plain": [
       "' \\nTHIS IS THE LEFTOVER CODE FROM ATTEMPTING TO USE HMMs\\n\\nHMMs are memory-less and thus required linear states of lenght = pos_motif\\nin order to put the motif exactly where stated. This quickly led to very large \\nHMMs that will grow exponentially in size with added motifs. \\n\\nThis is here to compare the time of execution between sampling via this \\nHMM technique or the simple for loop numpy.random idea. \\n'"
      ]
     },
     "execution_count": 2,
     "metadata": {},
     "output_type": "execute_result"
    }
   ],
   "source": [
    "\"\"\" \n",
    "THIS IS THE LEFTOVER CODE FROM ATTEMPTING TO USE HMMs\n",
    "\n",
    "HMMs are memory-less and thus required linear states of lenght = pos_motif\n",
    "in order to put the motif exactly where stated. This quickly led to very large \n",
    "HMMs that will grow exponentially in size with added motifs. \n",
    "\n",
    "This is here to compare the time of execution between sampling via this \n",
    "HMM technique or the simple for loop numpy.random idea. \n",
    "\"\"\""
   ]
  },
  {
   "cell_type": "code",
   "execution_count": 3,
   "metadata": {},
   "outputs": [],
   "source": [
    "import numpy\n",
    "import pomegranate as pm\n",
    "import matplotlib.pyplot as plt"
   ]
  },
  {
   "cell_type": "code",
   "execution_count": 4,
   "metadata": {},
   "outputs": [],
   "source": [
    "def simuldna_background(gc_frac):\n",
    "    \"\"\"\n",
    "    Generates an HMM to output background sequences\n",
    "    \n",
    "    Args:\n",
    "        gc_frac: float between 0 and 1 representing the fracton of G's and C's in the \n",
    "            background (non-motif) dna sequence\n",
    "    \n",
    "    Returns:\n",
    "        A pomegranate.HiddenMarkovModel to be .sample() for background sequences\n",
    "    \"\"\"\n",
    "    backg_model = pm.HiddenMarkovModel('simuldna_background')\n",
    "    c_frac = gc_frac/2 \n",
    "    bg = pm.State(pm.DiscreteDistribution({'A' : (1/2-c_frac), 'C' : c_frac, 'G' : c_frac, 'T' : (1/2-c_frac)}), name=\"bg\")\n",
    "    backg_model.add_state(bg)\n",
    "    backg_model.add_transition(backg_model.start, bg, 1)\n",
    "    backg_model.add_transition(bg, bg, 1)    \n",
    "    backg_model.bake()\n",
    "    return backg_model\n",
    "    "
   ]
  },
  {
   "cell_type": "code",
   "execution_count": 5,
   "metadata": {},
   "outputs": [],
   "source": [
    "def simuldna_one(pwm_motif, gc_frac, when_motif, **kwargs): # (int, ndarray([A], [C], [G], [T]), float, float)\n",
    "    \"\"\" Generates an HMM with a motif state to be transitioned to by specified chance (when_motif)\n",
    "    \n",
    "    This is not used in the comparison of time of execution. And is still here because I have become\n",
    "    to code I write.\n",
    "    \n",
    "    \"\"\"\n",
    "    model = pm.HiddenMarkovModel('simuldna_one')\n",
    "    c_frac = gc_frac/2           # half the input fraction goes for C's and G's, 1-c_frac for A's and T's\n",
    "    # make catch cases for if the frac is >1 and if pwm_motif isn't an array and if len isn't an int\n",
    "    # and for if when_motif > 1\n",
    "    \n",
    "    len_motif = pwm_motif.shape[1] # the length of the motif\n",
    "    \n",
    "    # background distributions\n",
    "    bg = pm.State(pm.DiscreteDistribution({'A' : (1/2-c_frac), 'C' : c_frac, 'G' : c_frac, 'T' : (1/2-c_frac)}), name=\"bg\")\n",
    "    bg_no = pm.State(pm.DiscreteDistribution({'A' : (1/2-c_frac), 'C' : c_frac, 'G' : c_frac, 'T' : (1/2-c_frac)}), name=\"bg_no\")\n",
    "    \n",
    "    models = []\n",
    "    \n",
    "    for i in range(len_motif): # making motif states from given pwm matrix and adding to model\n",
    "        models.append(pm.State(pm.DiscreteDistribution({'A' : pwm_motif[0][i], 'C' : pwm_motif[1][i], 'G' : pwm_motif[2][i], 'T' : pwm_motif[3][i]}), name=\"m\"+str(i+1)))\n",
    "        model.add_state(pm.State(pm.DiscreteDistribution({'A' : pwm_motif[0][i], 'C' : pwm_motif[1][i], 'G' : pwm_motif[2][i], 'T' : pwm_motif[3][i]}), name=\"m\"+str(i+1)))\n",
    "        \n",
    "    model.add_states(bg, bg_no) # adding background states\n",
    "    \n",
    "    # adding transition probabilities\n",
    "    model.add_transition(model.start, bg, (1-when_motif))\n",
    "    model.add_transition(model.start, models[0], when_motif) # motif can start on X1 position\n",
    "    model.add_transition(bg, bg, (1-when_motif))\n",
    "    model.add_transition(bg, models[0], when_motif)\n",
    "    for i in range(len_motif-1):\n",
    "        model.add_transition(models[i], models[i+1], 1)\n",
    "    model.add_transition(models[len_motif-1], bg_no, 1)\n",
    "    model.add_transition(bg_no, bg_no, 1)\n",
    "    # no end transition probability because length is specified\n",
    "    \n",
    "    model.bake() # this makes the model usable\n",
    "    \n",
    "    \n",
    "    return model"
   ]
  },
  {
   "cell_type": "code",
   "execution_count": 6,
   "metadata": {},
   "outputs": [],
   "source": [
    "def simuldna_spec(length, pwm_motif, gc_frac, where_motif, num_samples): \n",
    "    \"\"\"Outputs list of samples with a singular motif at specified index.\n",
    "    \n",
    "    Args: \n",
    "        see new_simuldna_dist\n",
    "    \"\"\"\n",
    "    \n",
    "    # TODO: if gc_frac > 1: raise(\"needs to be a fraction of G's and C's in the background DNA sequence\")\n",
    "    # TODO: if where_motif < 1: raise(\"needs to be the index of location of protein motif\")\n",
    "    # TODO: if length < where_motif: raise \"motif can't be placed outside the total length of DNA\")\n",
    "    \n",
    "\n",
    "    \n",
    "    # generate models BEFORE sampling tons of times\n",
    "    bg_model = simuldna_background(gc_frac)\n",
    "    # sequence where motif is at the start to extend the background sequence\n",
    "    motif_model = simuldna_one(pwm_motif, gc_frac, 1) \n",
    "    \n",
    "    \n",
    "    bg_seq = []\n",
    "    total = []\n",
    "    for i in range(num_samples): \n",
    "        # TODO choose where_motif from a distribution perhaps (?)\n",
    "        \n",
    "        len_motif_seq = length-where_motif+1 \n",
    "        bg_seq = bg_model.sample(length=where_motif-1)\n",
    "        motif_seq = motif_model.sample(length=len_motif_seq)\n",
    "        total.append(numpy.concatenate((bg_seq, motif_seq), axis=None))\n",
    "    return total"
   ]
  },
  {
   "cell_type": "code",
   "execution_count": null,
   "metadata": {},
   "outputs": [],
   "source": []
  }
 ],
 "metadata": {
  "kernelspec": {
   "display_name": "Python 3",
   "language": "python",
   "name": "python3"
  },
  "language_info": {
   "codemirror_mode": {
    "name": "ipython",
    "version": 3
   },
   "file_extension": ".py",
   "mimetype": "text/x-python",
   "name": "python",
   "nbconvert_exporter": "python",
   "pygments_lexer": "ipython3",
   "version": "3.8.3"
  }
 },
 "nbformat": 4,
 "nbformat_minor": 4
}
