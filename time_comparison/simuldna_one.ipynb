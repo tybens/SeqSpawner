{
 "cells": [
  {
   "cell_type": "code",
   "execution_count": 12,
   "metadata": {},
   "outputs": [],
   "source": [
    "import numpy as np\n",
    "import itertools as it\n",
    "from numpy import random"
   ]
  },
  {
   "cell_type": "code",
   "execution_count": 13,
   "metadata": {},
   "outputs": [],
   "source": [
    "def simuldna(length, pos_motif, pwm_motif, gc_frac):\n",
    " ''' Simulates DNA of given length and a motif at a specific index.\n",
    "\n",
    "Args:\n",
    "    see new_simuldna_dist\n",
    "Returns:\n",
    "    list of single character strings representing DNA nucleotides.\n", 
    "\n",
    "'''\n",
    "    nts = np.array(['A', 'C', 'G', 'T'])\n",
    "    c_frac = gc_frac/2\n",
    "    bg_weights = [(1/2-c_frac), c_frac, c_frac, (1/2-c_frac)]\n",
    "    seq = []\n",
    "\n",
    "    # background before motif\n",
    "    seq.extend(random.choice(nts, pos_motif-1, p=bg_weights))\n",
    "\n",
    "    # motif \n",
    "    len_motif = pwm_motif.shape[1]\n",
    "    for i in range(len_motif):\n",
    "        seq.extend(random.choice(nts, p=[pwm_motif[0][i], pwm_motif[1][i], pwm_motif[2][i], pwm_motif[3][i]]))\n",
    "    \n",
    "    # background after\n",
    "    seq.extend(random.choice(nts, length-(pos_motif+len_motif-1), p=bg_weights))\n",
    "    \n",
    "    return seq"
   ]
  },
 ],
 "metadata": {
  "kernelspec": {
   "display_name": "Python 3",
   "language": "python",
   "name": "python3"
  },
  "language_info": {
   "codemirror_mode": {
    "name": "ipython",
    "version": 3
   },
   "file_extension": ".py",
   "mimetype": "text/x-python",
   "name": "python",
   "nbconvert_exporter": "python",
   "pygments_lexer": "ipython3",
   "version": "3.8.3"
  }
 },
 "nbformat": 4,
 "nbformat_minor": 4
}
