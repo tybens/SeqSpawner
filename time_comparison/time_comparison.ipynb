{
 "cells": [
  {
   "cell_type": "code",
   "execution_count": 2,
   "metadata": {},
   "outputs": [
    {
     "name": "stdout",
     "output_type": "stream",
     "text": [
      "FOR LOOP IDEA:\n",
      "--- 0.3299398422241211 seconds ---\n",
      "MY IDEA (HMMs):\n",
      "--- 4.039134979248047 seconds ---\n"
     ]
    }
   ],
   "source": [
    "\"\"\" TESTING ELAPSED TIME SCRIPT\n",
    "\n",
    "This script compares two techniques (HMMs vs FOR LOOPS) for generating DNA sequences with a motif\n",
    "inserted exactly at a specified location.\n",
    "\"\"\"\n",
    "\n",
    "\n",
    "import time\n",
    "%run my_idea.ipynb\n",
    "%run simuldna_one.ipynb\n",
    "\n",
    "pwm_motif = np.array([[0, 0, 0, 0, 0, 0, 0], \n",
    "                      [0, 0, 0, 0, 0, 0, 0],\n",
    "                      [0, 0, 0, 0, 0, 0, 0],\n",
    "                      [1, 1, 1, 1, 1, 1, 1]])\n",
    "length = 100\n",
    "gc_frac = 0.5\n",
    "pos_motif = 50\n",
    "num_samples = 1000\n",
    "\n",
    "print('FOR LOOP IDEA:')\n",
    "start_time = time.time()\n",
    "for i in range(num_samples):\n",
    "    simuldna_one(length, pos_motif, pwm_motif, gc_frac)\n",
    "print(\"--- %s seconds ---\" % (time.time() - start_time))\n",
    "\n",
    "print('MY IDEA (HMMs):')\n",
    "start_time = time.time()\n",
    "simuldna_spec(length, pwm_motif, gc_frac, pos_motif, num_samples)\n",
    "print(\"--- %s seconds ---\" % (time.time() - start_time))"
   ]
  },
  {
   "cell_type": "code",
   "execution_count": null,
   "metadata": {},
   "outputs": [],
   "source": []
  }
 ],
 "metadata": {
  "kernelspec": {
   "display_name": "Python 3",
   "language": "python",
   "name": "python3"
  },
  "language_info": {
   "codemirror_mode": {
    "name": "ipython",
    "version": 3
   },
   "file_extension": ".py",
   "mimetype": "text/x-python",
   "name": "python",
   "nbconvert_exporter": "python",
   "pygments_lexer": "ipython3",
   "version": "3.8.3"
  }
 },
 "nbformat": 4,
 "nbformat_minor": 4
}
